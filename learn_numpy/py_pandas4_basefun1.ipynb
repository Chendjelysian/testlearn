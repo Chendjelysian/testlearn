{
 "cells": [
  {
   "cell_type": "markdown",
   "source": [
    "# 8.3.1重新索引\n",
    "\n",
    "pandas中的reindex方法可以为Series和DataFrame添加或者删除索引。\n",
    "如果新添加的索引没有对应的值，则默认为NaN。\n",
    "如果减少索引，就相当于一个切片操作。\n",
    "下面是对Series使用reindex方法的实例:"
   ],
   "metadata": {
    "collapsed": false
   }
  },
  {
   "cell_type": "code",
   "execution_count": 22,
   "metadata": {
    "collapsed": true,
    "ExecuteTime": {
     "end_time": "2023-07-25T08:57:50.122045800Z",
     "start_time": "2023-07-25T08:57:49.970454900Z"
    }
   },
   "outputs": [
    {
     "name": "stdout",
     "output_type": "stream",
     "text": [
      "A    1\n",
      "B    2\n",
      "C    3\n",
      "D    4\n",
      "dtype: int64\n"
     ]
    }
   ],
   "source": [
    "import numpy as np\n",
    "import pandas as pd\n",
    "from pandas import Series,DataFrame\n",
    "s1 = Series([1, 2, 3, 4], index=['A', 'B', 'C', 'D'])\n",
    "print(s1)"
   ]
  },
  {
   "cell_type": "markdown",
   "source": [
    "重新指定index， 多出来的index，可以使用fill_value填充"
   ],
   "metadata": {
    "collapsed": false
   }
  },
  {
   "cell_type": "code",
   "execution_count": 23,
   "outputs": [
    {
     "data": {
      "text/plain": "A     1\nB     2\nC     3\nD     4\nE    10\ndtype: int64"
     },
     "execution_count": 23,
     "metadata": {},
     "output_type": "execute_result"
    }
   ],
   "source": [
    "s1.reindex(index=['A', 'B', 'C', 'D', 'E'], fill_value = 10)"
   ],
   "metadata": {
    "collapsed": false,
    "ExecuteTime": {
     "end_time": "2023-07-25T08:57:50.182998100Z",
     "start_time": "2023-07-25T08:57:49.987409200Z"
    }
   }
  },
  {
   "cell_type": "markdown",
   "source": [
    "修改索引，将s2的索引增加到15个，如果新增加的索引值不存在，默认为NaN"
   ],
   "metadata": {
    "collapsed": false
   }
  },
  {
   "cell_type": "code",
   "execution_count": 24,
   "outputs": [
    {
     "name": "stdout",
     "output_type": "stream",
     "text": [
      "0     NaN\n",
      "1       A\n",
      "2     NaN\n",
      "3     NaN\n",
      "4     NaN\n",
      "5       B\n",
      "6     NaN\n",
      "7     NaN\n",
      "8     NaN\n",
      "9     NaN\n",
      "10      C\n",
      "11    NaN\n",
      "12    NaN\n",
      "13    NaN\n",
      "14    NaN\n",
      "dtype: object\n"
     ]
    }
   ],
   "source": [
    "s2 = Series(['A', 'B', 'C'], index = [1, 5, 10])\n",
    "print(s2.reindex(index=range(15)))"
   ],
   "metadata": {
    "collapsed": false,
    "ExecuteTime": {
     "end_time": "2023-07-25T08:57:50.182998100Z",
     "start_time": "2023-07-25T08:57:50.005361Z"
    }
   }
  },
  {
   "cell_type": "markdown",
   "source": [
    "ffill： 表示forward fill，向前填充\n",
    "如果新增加索引的值不存在，那么按照前一个非NaN的值填充进去"
   ],
   "metadata": {
    "collapsed": false
   }
  },
  {
   "cell_type": "code",
   "execution_count": 25,
   "outputs": [
    {
     "name": "stdout",
     "output_type": "stream",
     "text": [
      "0     NaN\n",
      "1       A\n",
      "2       A\n",
      "3       A\n",
      "4       A\n",
      "5       B\n",
      "6       B\n",
      "7       B\n",
      "8       B\n",
      "9       B\n",
      "10      C\n",
      "11      C\n",
      "12      C\n",
      "13      C\n",
      "14      C\n",
      "dtype: object\n"
     ]
    }
   ],
   "source": [
    "print(s2.reindex(index=range(15), method='ffill'))"
   ],
   "metadata": {
    "collapsed": false,
    "ExecuteTime": {
     "end_time": "2023-07-25T08:57:50.184979800Z",
     "start_time": "2023-07-25T08:57:50.020297500Z"
    }
   }
  },
  {
   "cell_type": "code",
   "execution_count": 26,
   "outputs": [
    {
     "data": {
      "text/plain": "A    1\nB    2\ndtype: int64"
     },
     "execution_count": 26,
     "metadata": {},
     "output_type": "execute_result"
    }
   ],
   "source": [
    "s1.reindex(['A', 'B'])"
   ],
   "metadata": {
    "collapsed": false,
    "ExecuteTime": {
     "end_time": "2023-07-25T08:57:50.184979800Z",
     "start_time": "2023-07-25T08:57:50.033249700Z"
    }
   }
  },
  {
   "cell_type": "markdown",
   "source": [
    "dataframe索引"
   ],
   "metadata": {
    "collapsed": false
   }
  },
  {
   "cell_type": "code",
   "execution_count": 27,
   "outputs": [
    {
     "name": "stdout",
     "output_type": "stream",
     "text": [
      "         c1        c2        c3        c4        c5\n",
      "A  0.523932  0.927819  0.393898  0.008008  0.795789\n",
      "B  0.096543  0.598717  0.026209  0.810584  0.094924\n",
      "D  0.214517  0.119733  0.829098  0.702556  0.968878\n",
      "E  0.969731  0.473640  0.081297  0.673761  0.211721\n",
      "F  0.631516  0.533387  0.543797  0.935570  0.251229\n"
     ]
    }
   ],
   "source": [
    "df1 = DataFrame(np.random.rand(25).reshape([5, 5]), index=['A', 'B', 'D', 'E', 'F'], columns=['c1', 'c2', 'c3', 'c4', 'c5'])\n",
    "print(df1)"
   ],
   "metadata": {
    "collapsed": false,
    "ExecuteTime": {
     "end_time": "2023-07-25T08:57:50.184979800Z",
     "start_time": "2023-07-25T08:57:50.053207900Z"
    }
   }
  },
  {
   "cell_type": "markdown",
   "source": [
    "为DataFrame添加一个新的索引\n",
    "可以看到自动扩充为NaN"
   ],
   "metadata": {
    "collapsed": false
   }
  },
  {
   "cell_type": "code",
   "execution_count": 28,
   "outputs": [
    {
     "name": "stdout",
     "output_type": "stream",
     "text": [
      "         c1        c2        c3        c4        c5\n",
      "A  0.523932  0.927819  0.393898  0.008008  0.795789\n",
      "B  0.096543  0.598717  0.026209  0.810584  0.094924\n",
      "C       NaN       NaN       NaN       NaN       NaN\n",
      "D  0.214517  0.119733  0.829098  0.702556  0.968878\n",
      "E  0.969731  0.473640  0.081297  0.673761  0.211721\n",
      "F  0.631516  0.533387  0.543797  0.935570  0.251229\n"
     ]
    }
   ],
   "source": [
    "print(df1.reindex(index=['A', 'B', 'C', 'D', 'E', 'F']))"
   ],
   "metadata": {
    "collapsed": false,
    "ExecuteTime": {
     "end_time": "2023-07-25T08:57:50.186978400Z",
     "start_time": "2023-07-25T08:57:50.074170800Z"
    }
   }
  },
  {
   "cell_type": "markdown",
   "source": [
    "扩充列"
   ],
   "metadata": {
    "collapsed": false
   }
  },
  {
   "cell_type": "code",
   "execution_count": 29,
   "outputs": [
    {
     "data": {
      "text/plain": "         c1        c2        c3        c4        c5  c6\nA  0.523932  0.927819  0.393898  0.008008  0.795789 NaN\nB  0.096543  0.598717  0.026209  0.810584  0.094924 NaN\nD  0.214517  0.119733  0.829098  0.702556  0.968878 NaN\nE  0.969731  0.473640  0.081297  0.673761  0.211721 NaN\nF  0.631516  0.533387  0.543797  0.935570  0.251229 NaN",
      "text/html": "<div>\n<style scoped>\n    .dataframe tbody tr th:only-of-type {\n        vertical-align: middle;\n    }\n\n    .dataframe tbody tr th {\n        vertical-align: top;\n    }\n\n    .dataframe thead th {\n        text-align: right;\n    }\n</style>\n<table border=\"1\" class=\"dataframe\">\n  <thead>\n    <tr style=\"text-align: right;\">\n      <th></th>\n      <th>c1</th>\n      <th>c2</th>\n      <th>c3</th>\n      <th>c4</th>\n      <th>c5</th>\n      <th>c6</th>\n    </tr>\n  </thead>\n  <tbody>\n    <tr>\n      <th>A</th>\n      <td>0.523932</td>\n      <td>0.927819</td>\n      <td>0.393898</td>\n      <td>0.008008</td>\n      <td>0.795789</td>\n      <td>NaN</td>\n    </tr>\n    <tr>\n      <th>B</th>\n      <td>0.096543</td>\n      <td>0.598717</td>\n      <td>0.026209</td>\n      <td>0.810584</td>\n      <td>0.094924</td>\n      <td>NaN</td>\n    </tr>\n    <tr>\n      <th>D</th>\n      <td>0.214517</td>\n      <td>0.119733</td>\n      <td>0.829098</td>\n      <td>0.702556</td>\n      <td>0.968878</td>\n      <td>NaN</td>\n    </tr>\n    <tr>\n      <th>E</th>\n      <td>0.969731</td>\n      <td>0.473640</td>\n      <td>0.081297</td>\n      <td>0.673761</td>\n      <td>0.211721</td>\n      <td>NaN</td>\n    </tr>\n    <tr>\n      <th>F</th>\n      <td>0.631516</td>\n      <td>0.533387</td>\n      <td>0.543797</td>\n      <td>0.935570</td>\n      <td>0.251229</td>\n      <td>NaN</td>\n    </tr>\n  </tbody>\n</table>\n</div>"
     },
     "execution_count": 29,
     "metadata": {},
     "output_type": "execute_result"
    }
   ],
   "source": [
    "df1.reindex(columns=['c1', 'c2', 'c3', 'c4', 'c5', 'c6'])"
   ],
   "metadata": {
    "collapsed": false,
    "ExecuteTime": {
     "end_time": "2023-07-25T08:57:50.186978400Z",
     "start_time": "2023-07-25T08:57:50.097078300Z"
    }
   }
  },
  {
   "cell_type": "markdown",
   "source": [
    "减少index"
   ],
   "metadata": {
    "collapsed": false
   }
  },
  {
   "cell_type": "code",
   "execution_count": 30,
   "outputs": [
    {
     "data": {
      "text/plain": "         c1        c2        c3        c4        c5\nA  0.523932  0.927819  0.393898  0.008008  0.795789\nB  0.096543  0.598717  0.026209  0.810584  0.094924",
      "text/html": "<div>\n<style scoped>\n    .dataframe tbody tr th:only-of-type {\n        vertical-align: middle;\n    }\n\n    .dataframe tbody tr th {\n        vertical-align: top;\n    }\n\n    .dataframe thead th {\n        text-align: right;\n    }\n</style>\n<table border=\"1\" class=\"dataframe\">\n  <thead>\n    <tr style=\"text-align: right;\">\n      <th></th>\n      <th>c1</th>\n      <th>c2</th>\n      <th>c3</th>\n      <th>c4</th>\n      <th>c5</th>\n    </tr>\n  </thead>\n  <tbody>\n    <tr>\n      <th>A</th>\n      <td>0.523932</td>\n      <td>0.927819</td>\n      <td>0.393898</td>\n      <td>0.008008</td>\n      <td>0.795789</td>\n    </tr>\n    <tr>\n      <th>B</th>\n      <td>0.096543</td>\n      <td>0.598717</td>\n      <td>0.026209</td>\n      <td>0.810584</td>\n      <td>0.094924</td>\n    </tr>\n  </tbody>\n</table>\n</div>"
     },
     "execution_count": 30,
     "metadata": {},
     "output_type": "execute_result"
    }
   ],
   "source": [
    "df1.reindex(index=['A', 'B'])"
   ],
   "metadata": {
    "collapsed": false,
    "ExecuteTime": {
     "end_time": "2023-07-25T08:57:50.223466800Z",
     "start_time": "2023-07-25T08:57:50.119021500Z"
    }
   }
  },
  {
   "cell_type": "code",
   "execution_count": 30,
   "outputs": [],
   "source": [],
   "metadata": {
    "collapsed": false,
    "ExecuteTime": {
     "end_time": "2023-07-25T08:57:50.223466800Z",
     "start_time": "2023-07-25T08:57:50.141992400Z"
    }
   }
  }
 ],
 "metadata": {
  "kernelspec": {
   "display_name": "Python 3",
   "language": "python",
   "name": "python3"
  },
  "language_info": {
   "codemirror_mode": {
    "name": "ipython",
    "version": 2
   },
   "file_extension": ".py",
   "mimetype": "text/x-python",
   "name": "python",
   "nbconvert_exporter": "python",
   "pygments_lexer": "ipython2",
   "version": "2.7.6"
  }
 },
 "nbformat": 4,
 "nbformat_minor": 0
}
