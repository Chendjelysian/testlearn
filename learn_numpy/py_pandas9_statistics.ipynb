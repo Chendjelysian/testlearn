{
 "cells": [
  {
   "cell_type": "markdown",
   "source": [
    "统计相关的函数"
   ],
   "metadata": {
    "collapsed": false
   }
  },
  {
   "cell_type": "code",
   "execution_count": 5,
   "metadata": {
    "collapsed": true,
    "ExecuteTime": {
     "end_time": "2023-07-26T06:44:50.296368200Z",
     "start_time": "2023-07-26T06:44:49.507135200Z"
    }
   },
   "outputs": [
    {
     "name": "stdout",
     "output_type": "stream",
     "text": [
      "    one  two\n",
      "0  1.30  NaN\n",
      "1  6.20 -3.4\n",
      "2   NaN  NaN\n",
      "3  0.65 -1.4\n",
      "one    8.15\n",
      "two   -4.80\n",
      "dtype: float64\n"
     ]
    }
   ],
   "source": [
    "import numpy as np\n",
    "import pandas as pd\n",
    "from pandas import Series,DataFrame\n",
    "df=DataFrame([[1.3,np.nan],[6.2,-3.4],[np.nan,np.nan],[0.65,-1.4]],columns=['one','two'])\n",
    "print(df)\n",
    "print(df.sum())  #计算每列的和，默认排除NaN"
   ]
  },
  {
   "cell_type": "code",
   "execution_count": 6,
   "outputs": [
    {
     "data": {
      "text/plain": "0    1.30\n1    2.80\n2    0.00\n3   -0.75\ndtype: float64"
     },
     "execution_count": 6,
     "metadata": {},
     "output_type": "execute_result"
    }
   ],
   "source": [
    "df.sum(axis=1)  #计算每行的和，默认排除NaN"
   ],
   "metadata": {
    "collapsed": false,
    "ExecuteTime": {
     "end_time": "2023-07-26T06:44:50.351182600Z",
     "start_time": "2023-07-26T06:44:50.296368200Z"
    }
   }
  },
  {
   "cell_type": "code",
   "execution_count": 7,
   "outputs": [
    {
     "data": {
      "text/plain": "0     NaN\n1    2.80\n2     NaN\n3   -0.75\ndtype: float64"
     },
     "execution_count": 7,
     "metadata": {},
     "output_type": "execute_result"
    }
   ],
   "source": [
    "#计算每行的和，设置skipna=False，NaN参与计算，结果仍为NaN\n",
    "df.sum(axis=1,skipna=False)\n"
   ],
   "metadata": {
    "collapsed": false,
    "ExecuteTime": {
     "end_time": "2023-07-26T06:44:50.351182600Z",
     "start_time": "2023-07-26T06:44:50.311991300Z"
    }
   }
  },
  {
   "cell_type": "code",
   "execution_count": 8,
   "outputs": [
    {
     "data": {
      "text/plain": "0    1.300\n1    1.400\n2      NaN\n3   -0.375\ndtype: float64"
     },
     "execution_count": 8,
     "metadata": {},
     "output_type": "execute_result"
    }
   ],
   "source": [
    "df.mean(axis=1)"
   ],
   "metadata": {
    "collapsed": false,
    "ExecuteTime": {
     "end_time": "2023-07-26T06:44:50.351182600Z",
     "start_time": "2023-07-26T06:44:50.332702600Z"
    }
   }
  },
  {
   "cell_type": "code",
   "execution_count": 9,
   "outputs": [
    {
     "data": {
      "text/plain": "    one  two\n0  1.30  NaN\n1  7.50 -3.4\n2   NaN  NaN\n3  8.15 -4.8",
      "text/html": "<div>\n<style scoped>\n    .dataframe tbody tr th:only-of-type {\n        vertical-align: middle;\n    }\n\n    .dataframe tbody tr th {\n        vertical-align: top;\n    }\n\n    .dataframe thead th {\n        text-align: right;\n    }\n</style>\n<table border=\"1\" class=\"dataframe\">\n  <thead>\n    <tr style=\"text-align: right;\">\n      <th></th>\n      <th>one</th>\n      <th>two</th>\n    </tr>\n  </thead>\n  <tbody>\n    <tr>\n      <th>0</th>\n      <td>1.30</td>\n      <td>NaN</td>\n    </tr>\n    <tr>\n      <th>1</th>\n      <td>7.50</td>\n      <td>-3.4</td>\n    </tr>\n    <tr>\n      <th>2</th>\n      <td>NaN</td>\n      <td>NaN</td>\n    </tr>\n    <tr>\n      <th>3</th>\n      <td>8.15</td>\n      <td>-4.8</td>\n    </tr>\n  </tbody>\n</table>\n</div>"
     },
     "execution_count": 9,
     "metadata": {},
     "output_type": "execute_result"
    }
   ],
   "source": [
    "df.cumsum()   #求样本值的累计和"
   ],
   "metadata": {
    "collapsed": false,
    "ExecuteTime": {
     "end_time": "2023-07-26T06:44:50.366799900Z",
     "start_time": "2023-07-26T06:44:50.351182600Z"
    }
   }
  },
  {
   "cell_type": "markdown",
   "source": [
    "#针对列计算汇总统计"
   ],
   "metadata": {
    "collapsed": false
   }
  },
  {
   "cell_type": "code",
   "execution_count": 10,
   "outputs": [
    {
     "data": {
      "text/plain": "            one       two\ncount  3.000000  2.000000\nmean   2.716667 -2.400000\nstd    3.034112  1.414214\nmin    0.650000 -3.400000\n25%    0.975000 -2.900000\n50%    1.300000 -2.400000\n75%    3.750000 -1.900000\nmax    6.200000 -1.400000",
      "text/html": "<div>\n<style scoped>\n    .dataframe tbody tr th:only-of-type {\n        vertical-align: middle;\n    }\n\n    .dataframe tbody tr th {\n        vertical-align: top;\n    }\n\n    .dataframe thead th {\n        text-align: right;\n    }\n</style>\n<table border=\"1\" class=\"dataframe\">\n  <thead>\n    <tr style=\"text-align: right;\">\n      <th></th>\n      <th>one</th>\n      <th>two</th>\n    </tr>\n  </thead>\n  <tbody>\n    <tr>\n      <th>count</th>\n      <td>3.000000</td>\n      <td>2.000000</td>\n    </tr>\n    <tr>\n      <th>mean</th>\n      <td>2.716667</td>\n      <td>-2.400000</td>\n    </tr>\n    <tr>\n      <th>std</th>\n      <td>3.034112</td>\n      <td>1.414214</td>\n    </tr>\n    <tr>\n      <th>min</th>\n      <td>0.650000</td>\n      <td>-3.400000</td>\n    </tr>\n    <tr>\n      <th>25%</th>\n      <td>0.975000</td>\n      <td>-2.900000</td>\n    </tr>\n    <tr>\n      <th>50%</th>\n      <td>1.300000</td>\n      <td>-2.400000</td>\n    </tr>\n    <tr>\n      <th>75%</th>\n      <td>3.750000</td>\n      <td>-1.900000</td>\n    </tr>\n    <tr>\n      <th>max</th>\n      <td>6.200000</td>\n      <td>-1.400000</td>\n    </tr>\n  </tbody>\n</table>\n</div>"
     },
     "execution_count": 10,
     "metadata": {},
     "output_type": "execute_result"
    }
   ],
   "source": [
    "df.describe()"
   ],
   "metadata": {
    "collapsed": false,
    "ExecuteTime": {
     "end_time": "2023-07-26T06:44:50.402895600Z",
     "start_time": "2023-07-26T06:44:50.366799900Z"
    }
   }
  },
  {
   "cell_type": "markdown",
   "source": [
    "8.4.2唯一值、值计数以及成员资格\n",
    "1.唯一值和值计数"
   ],
   "metadata": {
    "collapsed": false
   }
  },
  {
   "cell_type": "code",
   "execution_count": 11,
   "outputs": [
    {
     "name": "stdout",
     "output_type": "stream",
     "text": [
      "False\n"
     ]
    }
   ],
   "source": [
    "import pandas as pd\n",
    "from pandas import Series\n",
    "s = Series([3,3,1,2,4,3,4,6,5,6])\n",
    "\n",
    "\n",
    "#判断Series中的值是否重复,False表示重复\n",
    "print(s.is_unique)"
   ],
   "metadata": {
    "collapsed": false,
    "ExecuteTime": {
     "end_time": "2023-07-26T06:44:50.402895600Z",
     "start_time": "2023-07-26T06:44:50.385781100Z"
    }
   }
  },
  {
   "cell_type": "code",
   "execution_count": 12,
   "outputs": [
    {
     "name": "stdout",
     "output_type": "stream",
     "text": [
      "[1, 2, 3, 4, 5, 6]\n"
     ]
    }
   ],
   "source": [
    "#输出Series中不重复的值,返回值没有排序，返回值的类型为数组\n",
    "print(sorted(s.unique())) # 加入sort排序"
   ],
   "metadata": {
    "collapsed": false,
    "ExecuteTime": {
     "end_time": "2023-07-26T06:44:50.484170800Z",
     "start_time": "2023-07-26T06:44:50.402085600Z"
    }
   }
  },
  {
   "cell_type": "code",
   "execution_count": 13,
   "outputs": [
    {
     "data": {
      "text/plain": "3    3\n4    2\n6    2\n1    1\n2    1\n5    1\ndtype: int64"
     },
     "execution_count": 13,
     "metadata": {},
     "output_type": "execute_result"
    }
   ],
   "source": [
    "#统计Series中重复值出现的次数,默认是按出现次数降序排序\n",
    "\n",
    "s.value_counts()"
   ],
   "metadata": {
    "collapsed": false,
    "ExecuteTime": {
     "end_time": "2023-07-26T06:44:50.484170800Z",
     "start_time": "2023-07-26T06:44:50.418518600Z"
    }
   }
  },
  {
   "cell_type": "code",
   "execution_count": 14,
   "outputs": [
    {
     "data": {
      "text/plain": "3    3\n1    1\n2    1\n4    2\n6    2\n5    1\ndtype: int64"
     },
     "execution_count": 14,
     "metadata": {},
     "output_type": "execute_result"
    }
   ],
   "source": [
    "#按照重复值的大小排序输出频率\n",
    "s.value_counts(sort=False)"
   ],
   "metadata": {
    "collapsed": false,
    "ExecuteTime": {
     "end_time": "2023-07-26T06:44:50.577794Z",
     "start_time": "2023-07-26T06:44:50.434140200Z"
    }
   }
  },
  {
   "cell_type": "markdown",
   "source": [
    "8.4.2唯一值、值计数以及成员资格\n",
    "2.成员资格判断\n",
    "下面是关于成员资格判断的具体实例"
   ],
   "metadata": {
    "collapsed": false
   }
  },
  {
   "cell_type": "code",
   "execution_count": 15,
   "outputs": [
    {
     "name": "stdout",
     "output_type": "stream",
     "text": [
      "0    6\n",
      "1    6\n",
      "2    7\n",
      "3    2\n",
      "4    2\n",
      "dtype: int64\n"
     ]
    }
   ],
   "source": [
    "s = Series([6,6,7,2,2])\n",
    "print(s)"
   ],
   "metadata": {
    "collapsed": false,
    "ExecuteTime": {
     "end_time": "2023-07-26T06:44:50.577794Z",
     "start_time": "2023-07-26T06:44:50.449761100Z"
    }
   }
  },
  {
   "cell_type": "code",
   "execution_count": null,
   "outputs": [],
   "source": [
    "#判断矢量化集合的成员资格,返回一个布尔类型的Series\n",
    "s.isin([6])"
   ],
   "metadata": {
    "collapsed": false
   }
  },
  {
   "cell_type": "code",
   "execution_count": 16,
   "outputs": [
    {
     "data": {
      "text/plain": "pandas.core.series.Series"
     },
     "execution_count": 16,
     "metadata": {},
     "output_type": "execute_result"
    }
   ],
   "source": [
    "type(s.isin([6]))"
   ],
   "metadata": {
    "collapsed": false,
    "ExecuteTime": {
     "end_time": "2023-07-26T06:48:31.716524900Z",
     "start_time": "2023-07-26T06:48:31.653870900Z"
    }
   }
  },
  {
   "cell_type": "code",
   "execution_count": 18,
   "outputs": [
    {
     "name": "stdout",
     "output_type": "stream",
     "text": [
      "0    6\n",
      "1    6\n",
      "dtype: int64\n"
     ]
    }
   ],
   "source": [
    "#通过成员资格方法选取Series中的数据子集\n",
    "print(s[s.isin([6])])"
   ],
   "metadata": {
    "collapsed": false,
    "ExecuteTime": {
     "end_time": "2023-07-26T06:48:48.218324600Z",
     "start_time": "2023-07-26T06:48:48.171301Z"
    }
   }
  },
  {
   "cell_type": "code",
   "execution_count": 20,
   "outputs": [
    {
     "name": "stdout",
     "output_type": "stream",
     "text": [
      "   one  two  three\n",
      "a    4    3      7\n",
      "b    3    2      5\n",
      "c    7    3      6\n"
     ]
    }
   ],
   "source": [
    "data = [[4,3,7],[3,2,5],[7,3,6]]\n",
    "df = DataFrame(data,index=[\"a\",\"b\",\"c\"],columns=[\"one\",\"two\",\"three\"])\n",
    "print(df)"
   ],
   "metadata": {
    "collapsed": false,
    "ExecuteTime": {
     "end_time": "2023-07-26T06:49:16.108284900Z",
     "start_time": "2023-07-26T06:49:16.092663900Z"
    }
   }
  },
  {
   "cell_type": "code",
   "execution_count": 21,
   "outputs": [
    {
     "data": {
      "text/plain": "     one    two  three\na  False  False  False\nb  False   True  False\nc  False  False  False",
      "text/html": "<div>\n<style scoped>\n    .dataframe tbody tr th:only-of-type {\n        vertical-align: middle;\n    }\n\n    .dataframe tbody tr th {\n        vertical-align: top;\n    }\n\n    .dataframe thead th {\n        text-align: right;\n    }\n</style>\n<table border=\"1\" class=\"dataframe\">\n  <thead>\n    <tr style=\"text-align: right;\">\n      <th></th>\n      <th>one</th>\n      <th>two</th>\n      <th>three</th>\n    </tr>\n  </thead>\n  <tbody>\n    <tr>\n      <th>a</th>\n      <td>False</td>\n      <td>False</td>\n      <td>False</td>\n    </tr>\n    <tr>\n      <th>b</th>\n      <td>False</td>\n      <td>True</td>\n      <td>False</td>\n    </tr>\n    <tr>\n      <th>c</th>\n      <td>False</td>\n      <td>False</td>\n      <td>False</td>\n    </tr>\n  </tbody>\n</table>\n</div>"
     },
     "execution_count": 21,
     "metadata": {},
     "output_type": "execute_result"
    }
   ],
   "source": [
    "#返回一个布尔型的DataFrame\n",
    "df.isin([2])"
   ],
   "metadata": {
    "collapsed": false,
    "ExecuteTime": {
     "end_time": "2023-07-26T06:49:29.577920300Z",
     "start_time": "2023-07-26T06:49:29.558886400Z"
    }
   }
  },
  {
   "cell_type": "code",
   "execution_count": 22,
   "outputs": [
    {
     "data": {
      "text/plain": "   one  two  three\na  NaN  NaN    NaN\nb  NaN  2.0    NaN\nc  NaN  NaN    NaN",
      "text/html": "<div>\n<style scoped>\n    .dataframe tbody tr th:only-of-type {\n        vertical-align: middle;\n    }\n\n    .dataframe tbody tr th {\n        vertical-align: top;\n    }\n\n    .dataframe thead th {\n        text-align: right;\n    }\n</style>\n<table border=\"1\" class=\"dataframe\">\n  <thead>\n    <tr style=\"text-align: right;\">\n      <th></th>\n      <th>one</th>\n      <th>two</th>\n      <th>three</th>\n    </tr>\n  </thead>\n  <tbody>\n    <tr>\n      <th>a</th>\n      <td>NaN</td>\n      <td>NaN</td>\n      <td>NaN</td>\n    </tr>\n    <tr>\n      <th>b</th>\n      <td>NaN</td>\n      <td>2.0</td>\n      <td>NaN</td>\n    </tr>\n    <tr>\n      <th>c</th>\n      <td>NaN</td>\n      <td>NaN</td>\n      <td>NaN</td>\n    </tr>\n  </tbody>\n</table>\n</div>"
     },
     "execution_count": 22,
     "metadata": {},
     "output_type": "execute_result"
    }
   ],
   "source": [
    " #选取DataFrame中值为2的数，其他的为NaN\n",
    "df[df.isin([2])]"
   ],
   "metadata": {
    "collapsed": false,
    "ExecuteTime": {
     "end_time": "2023-07-26T06:51:00.276409Z",
     "start_time": "2023-07-26T06:51:00.260786100Z"
    }
   }
  },
  {
   "cell_type": "code",
   "execution_count": 23,
   "outputs": [
    {
     "data": {
      "text/plain": "   one  two  three\na  0.0  0.0    0.0\nb  0.0  2.0    0.0\nc  0.0  0.0    0.0",
      "text/html": "<div>\n<style scoped>\n    .dataframe tbody tr th:only-of-type {\n        vertical-align: middle;\n    }\n\n    .dataframe tbody tr th {\n        vertical-align: top;\n    }\n\n    .dataframe thead th {\n        text-align: right;\n    }\n</style>\n<table border=\"1\" class=\"dataframe\">\n  <thead>\n    <tr style=\"text-align: right;\">\n      <th></th>\n      <th>one</th>\n      <th>two</th>\n      <th>three</th>\n    </tr>\n  </thead>\n  <tbody>\n    <tr>\n      <th>a</th>\n      <td>0.0</td>\n      <td>0.0</td>\n      <td>0.0</td>\n    </tr>\n    <tr>\n      <th>b</th>\n      <td>0.0</td>\n      <td>2.0</td>\n      <td>0.0</td>\n    </tr>\n    <tr>\n      <th>c</th>\n      <td>0.0</td>\n      <td>0.0</td>\n      <td>0.0</td>\n    </tr>\n  </tbody>\n</table>\n</div>"
     },
     "execution_count": 23,
     "metadata": {},
     "output_type": "execute_result"
    }
   ],
   "source": [
    "df[df.isin([2])].fillna(0)"
   ],
   "metadata": {
    "collapsed": false,
    "ExecuteTime": {
     "end_time": "2023-07-26T06:51:45.780204900Z",
     "start_time": "2023-07-26T06:51:45.748845400Z"
    }
   }
  }
 ],
 "metadata": {
  "kernelspec": {
   "display_name": "Python 3",
   "language": "python",
   "name": "python3"
  },
  "language_info": {
   "codemirror_mode": {
    "name": "ipython",
    "version": 2
   },
   "file_extension": ".py",
   "mimetype": "text/x-python",
   "name": "python",
   "nbconvert_exporter": "python",
   "pygments_lexer": "ipython2",
   "version": "2.7.6"
  }
 },
 "nbformat": 4,
 "nbformat_minor": 0
}
