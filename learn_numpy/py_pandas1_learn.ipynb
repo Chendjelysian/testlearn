{
 "cells": [
  {
   "cell_type": "markdown",
   "source": [
    "### pandas\n",
    "series"
   ],
   "metadata": {
    "collapsed": false
   }
  },
  {
   "cell_type": "code",
   "execution_count": 5,
   "metadata": {
    "collapsed": true,
    "ExecuteTime": {
     "end_time": "2023-07-25T07:18:06.190473400Z",
     "start_time": "2023-07-25T07:18:06.163546100Z"
    }
   },
   "outputs": [
    {
     "name": "stdout",
     "output_type": "stream",
     "text": [
      "0    3\n",
      "1    5\n",
      "2    6\n",
      "3    8\n",
      "4    9\n",
      "5    2\n",
      "dtype: int64\n"
     ]
    }
   ],
   "source": [
    "import numpy as np\n",
    "import pandas as pd\n",
    "from pandas import Series, DataFrame\n",
    "\n",
    "obj = Series([3, 5, 6, 8, 9, 2])\n",
    "print(obj)\n"
   ]
  },
  {
   "cell_type": "code",
   "execution_count": 6,
   "outputs": [
    {
     "name": "stdout",
     "output_type": "stream",
     "text": [
      "RangeIndex(start=0, stop=6, step=1)\n"
     ]
    }
   ],
   "source": [
    "print(obj.index)"
   ],
   "metadata": {
    "collapsed": false,
    "ExecuteTime": {
     "end_time": "2023-07-25T07:18:06.199449900Z",
     "start_time": "2023-07-25T07:18:06.186489900Z"
    }
   }
  },
  {
   "cell_type": "code",
   "execution_count": 7,
   "outputs": [
    {
     "name": "stdout",
     "output_type": "stream",
     "text": [
      "a    3\n",
      "b    5\n",
      "c    6\n",
      "d    8\n",
      "e    9\n",
      "f    2\n",
      "dtype: int64\n",
      "Index(['a', 'b', 'c', 'd', 'e', 'f'], dtype='object')\n",
      "3\n"
     ]
    }
   ],
   "source": [
    "obj2 = Series([3, 5, 6, 8, 9, 2], index=['a', 'b', 'c', 'd', 'e', 'f'])\n",
    "print(obj2)\n",
    "print(obj2.index)\n",
    "print(obj2['a'])"
   ],
   "metadata": {
    "collapsed": false,
    "ExecuteTime": {
     "end_time": "2023-07-25T07:18:06.244329200Z",
     "start_time": "2023-07-25T07:18:06.201446200Z"
    }
   }
  },
  {
   "cell_type": "code",
   "execution_count": 8,
   "outputs": [
    {
     "name": "stdout",
     "output_type": "stream",
     "text": [
      "b    5\n",
      "d    8\n",
      "f    2\n",
      "dtype: int64\n"
     ]
    }
   ],
   "source": [
    "print(obj2[['b', 'd', 'f']])"
   ],
   "metadata": {
    "collapsed": false,
    "ExecuteTime": {
     "end_time": "2023-07-25T07:18:06.253305300Z",
     "start_time": "2023-07-25T07:18:06.216404600Z"
    }
   }
  },
  {
   "cell_type": "code",
   "execution_count": 9,
   "outputs": [
    {
     "data": {
      "text/plain": "c    6\nd    8\ne    9\ndtype: int64"
     },
     "execution_count": 9,
     "metadata": {},
     "output_type": "execute_result"
    }
   ],
   "source": [
    "obj2[obj2 > 5]"
   ],
   "metadata": {
    "collapsed": false,
    "ExecuteTime": {
     "end_time": "2023-07-25T07:18:40.793307800Z",
     "start_time": "2023-07-25T07:18:40.766938200Z"
    }
   }
  },
  {
   "cell_type": "code",
   "execution_count": 10,
   "outputs": [
    {
     "name": "stdout",
     "output_type": "stream",
     "text": [
      "a     6\n",
      "b    10\n",
      "c    12\n",
      "d    16\n",
      "e    18\n",
      "f     4\n",
      "dtype: int64\n"
     ]
    }
   ],
   "source": [
    "print(obj2 * 2)"
   ],
   "metadata": {
    "collapsed": false,
    "ExecuteTime": {
     "end_time": "2023-07-25T07:20:32.436194Z",
     "start_time": "2023-07-25T07:20:32.427217400Z"
    }
   }
  },
  {
   "cell_type": "code",
   "execution_count": 11,
   "outputs": [
    {
     "name": "stdout",
     "output_type": "stream",
     "text": [
      "a      20.085537\n",
      "b     148.413159\n",
      "c     403.428793\n",
      "d    2980.957987\n",
      "e    8103.083928\n",
      "f       7.389056\n",
      "dtype: float64\n"
     ]
    }
   ],
   "source": [
    "print(np.exp(obj2))"
   ],
   "metadata": {
    "collapsed": false,
    "ExecuteTime": {
     "end_time": "2023-07-25T07:21:45.039868800Z",
     "start_time": "2023-07-25T07:21:45.030893500Z"
    }
   }
  },
  {
   "cell_type": "markdown",
   "source": [
    "可以将Series看成是一个有定长的有序字典，因为它是索引值到数据值的一个映射。"
   ],
   "metadata": {
    "collapsed": false
   }
  },
  {
   "cell_type": "code",
   "execution_count": 13,
   "outputs": [
    {
     "name": "stdout",
     "output_type": "stream",
     "text": [
      "True\n",
      "False\n"
     ]
    }
   ],
   "source": [
    "print('b' in obj2)\n",
    "\n",
    "print('m' in obj2)\n"
   ],
   "metadata": {
    "collapsed": false,
    "ExecuteTime": {
     "end_time": "2023-07-25T07:22:47.051019800Z",
     "start_time": "2023-07-25T07:22:47.039050600Z"
    }
   }
  },
  {
   "cell_type": "markdown",
   "source": [
    "也可以用字典创建Series。"
   ],
   "metadata": {
    "collapsed": false
   }
  },
  {
   "cell_type": "code",
   "execution_count": 14,
   "outputs": [
    {
     "name": "stdout",
     "output_type": "stream",
     "text": [
      "m    4\n",
      "n    5\n",
      "p    6\n",
      "dtype: int64\n"
     ]
    }
   ],
   "source": [
    "dic={'m':4,'n':5,'p':6}\n",
    "obj3=Series(dic)\n",
    "print(obj3)"
   ],
   "metadata": {
    "collapsed": false,
    "ExecuteTime": {
     "end_time": "2023-07-25T07:23:28.968883500Z",
     "start_time": "2023-07-25T07:23:28.922380400Z"
    }
   }
  },
  {
   "cell_type": "code",
   "execution_count": 15,
   "outputs": [
    {
     "name": "stdout",
     "output_type": "stream",
     "text": [
      "m    4.0\n",
      "n    5.0\n",
      "p    6.0\n",
      "a    NaN\n",
      "dtype: float64\n"
     ]
    }
   ],
   "source": [
    "ind=['m','n','p','a']\n",
    "obj4=Series(dic,index=ind)\n",
    "print(obj4)"
   ],
   "metadata": {
    "collapsed": false,
    "ExecuteTime": {
     "end_time": "2023-07-25T07:27:13.462877400Z",
     "start_time": "2023-07-25T07:27:13.413861400Z"
    }
   }
  },
  {
   "cell_type": "markdown",
   "source": [
    "检测缺失"
   ],
   "metadata": {
    "collapsed": false
   }
  },
  {
   "cell_type": "code",
   "execution_count": 16,
   "outputs": [
    {
     "data": {
      "text/plain": "m    False\nn    False\np    False\na     True\ndtype: bool"
     },
     "execution_count": 16,
     "metadata": {},
     "output_type": "execute_result"
    }
   ],
   "source": [
    "pd.isnull(obj4)\n"
   ],
   "metadata": {
    "collapsed": false,
    "ExecuteTime": {
     "end_time": "2023-07-25T07:27:42.897502700Z",
     "start_time": "2023-07-25T07:27:42.872932100Z"
    }
   }
  },
  {
   "cell_type": "code",
   "execution_count": 17,
   "outputs": [
    {
     "data": {
      "text/plain": "m     True\nn     True\np     True\na    False\ndtype: bool"
     },
     "execution_count": 17,
     "metadata": {},
     "output_type": "execute_result"
    }
   ],
   "source": [
    "pd.notnull(obj4)"
   ],
   "metadata": {
    "collapsed": false,
    "ExecuteTime": {
     "end_time": "2023-07-25T07:27:57.546262700Z",
     "start_time": "2023-07-25T07:27:57.528819900Z"
    }
   }
  },
  {
   "cell_type": "code",
   "execution_count": 18,
   "outputs": [
    {
     "data": {
      "text/plain": "a     NaN\nm     8.0\nn    10.0\np    12.0\ndtype: float64"
     },
     "execution_count": 18,
     "metadata": {},
     "output_type": "execute_result"
    }
   ],
   "source": [
    "obj3+obj4"
   ],
   "metadata": {
    "collapsed": false,
    "ExecuteTime": {
     "end_time": "2023-07-25T07:28:12.349455300Z",
     "start_time": "2023-07-25T07:28:12.338234800Z"
    }
   }
  },
  {
   "cell_type": "code",
   "execution_count": 20,
   "outputs": [
    {
     "name": "stdout",
     "output_type": "stream",
     "text": [
      "letter\n",
      "m    4.0\n",
      "n    5.0\n",
      "p    6.0\n",
      "a    NaN\n",
      "Name: sereis_a, dtype: float64\n"
     ]
    }
   ],
   "source": [
    "obj4.name='sereis_a'\n",
    "obj4.index.name='letter'\n",
    "print(obj4)\n"
   ],
   "metadata": {
    "collapsed": false,
    "ExecuteTime": {
     "end_time": "2023-07-25T07:30:00.422879500Z",
     "start_time": "2023-07-25T07:30:00.374264500Z"
    }
   }
  },
  {
   "cell_type": "markdown",
   "source": [
    "Series的索引可以通过赋值的方式进行改变"
   ],
   "metadata": {
    "collapsed": false
   }
  },
  {
   "cell_type": "code",
   "execution_count": 21,
   "outputs": [
    {
     "name": "stdout",
     "output_type": "stream",
     "text": [
      "u    4.0\n",
      "v    5.0\n",
      "w    6.0\n",
      "a    NaN\n",
      "Name: sereis_a, dtype: float64\n"
     ]
    }
   ],
   "source": [
    "obj4.index=['u','v','w','a']\n",
    "print(obj4)"
   ],
   "metadata": {
    "collapsed": false,
    "ExecuteTime": {
     "end_time": "2023-07-25T07:30:34.654369600Z",
     "start_time": "2023-07-25T07:30:34.641400100Z"
    }
   }
  },
  {
   "cell_type": "code",
   "execution_count": null,
   "outputs": [],
   "source": [],
   "metadata": {
    "collapsed": false
   }
  }
 ],
 "metadata": {
  "kernelspec": {
   "display_name": "Python 3",
   "language": "python",
   "name": "python3"
  },
  "language_info": {
   "codemirror_mode": {
    "name": "ipython",
    "version": 2
   },
   "file_extension": ".py",
   "mimetype": "text/x-python",
   "name": "python",
   "nbconvert_exporter": "python",
   "pygments_lexer": "ipython2",
   "version": "2.7.6"
  }
 },
 "nbformat": 4,
 "nbformat_minor": 0
}
