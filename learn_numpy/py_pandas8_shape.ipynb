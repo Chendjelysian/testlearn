{
 "cells": [
  {
   "cell_type": "markdown",
   "source": [
    ".3.9 shape函数\n",
    "DataFrame的shape函数用于返回DataFrame的形状，具体用法如下\n",
    "·shape:返回DataFrame包含几行几列;\n",
    "·shape[0]: 返回DataFrame包含几行\n",
    "·shape[1]:返回DataFrame包含几列"
   ],
   "metadata": {
    "collapsed": false
   }
  },
  {
   "cell_type": "code",
   "execution_count": 1,
   "metadata": {
    "collapsed": true,
    "ExecuteTime": {
     "end_time": "2023-07-25T13:10:11.205826300Z",
     "start_time": "2023-07-25T13:10:10.860470900Z"
    }
   },
   "outputs": [
    {
     "data": {
      "text/plain": "   b  a  c\n0  3  8  2\n1  1  4  7\n2  5  3  9\n3  2  7  4",
      "text/html": "<div>\n<style scoped>\n    .dataframe tbody tr th:only-of-type {\n        vertical-align: middle;\n    }\n\n    .dataframe tbody tr th {\n        vertical-align: top;\n    }\n\n    .dataframe thead th {\n        text-align: right;\n    }\n</style>\n<table border=\"1\" class=\"dataframe\">\n  <thead>\n    <tr style=\"text-align: right;\">\n      <th></th>\n      <th>b</th>\n      <th>a</th>\n      <th>c</th>\n    </tr>\n  </thead>\n  <tbody>\n    <tr>\n      <th>0</th>\n      <td>3</td>\n      <td>8</td>\n      <td>2</td>\n    </tr>\n    <tr>\n      <th>1</th>\n      <td>1</td>\n      <td>4</td>\n      <td>7</td>\n    </tr>\n    <tr>\n      <th>2</th>\n      <td>5</td>\n      <td>3</td>\n      <td>9</td>\n    </tr>\n    <tr>\n      <th>3</th>\n      <td>2</td>\n      <td>7</td>\n      <td>4</td>\n    </tr>\n  </tbody>\n</table>\n</div>"
     },
     "execution_count": 1,
     "metadata": {},
     "output_type": "execute_result"
    }
   ],
   "source": [
    "import pandas as pd\n",
    "from pandas import DataFrame\n",
    "\n",
    "frame = DataFrame({'b': [3, 1, 5, 2], 'a': [8, 4, 3, 7], 'c': [2, 7, 9, 4]})\n",
    "frame"
   ]
  },
  {
   "cell_type": "code",
   "execution_count": 2,
   "outputs": [
    {
     "data": {
      "text/plain": "(4, 3)"
     },
     "execution_count": 2,
     "metadata": {},
     "output_type": "execute_result"
    }
   ],
   "source": [
    "frame.shape"
   ],
   "metadata": {
    "collapsed": false,
    "ExecuteTime": {
     "end_time": "2023-07-25T13:10:36.153368800Z",
     "start_time": "2023-07-25T13:10:36.137409200Z"
    }
   }
  },
  {
   "cell_type": "code",
   "execution_count": 3,
   "outputs": [
    {
     "data": {
      "text/plain": "4"
     },
     "execution_count": 3,
     "metadata": {},
     "output_type": "execute_result"
    }
   ],
   "source": [
    "frame.shape[0]"
   ],
   "metadata": {
    "collapsed": false,
    "ExecuteTime": {
     "end_time": "2023-07-25T13:10:54.790502800Z",
     "start_time": "2023-07-25T13:10:54.780664600Z"
    }
   }
  },
  {
   "cell_type": "code",
   "execution_count": 4,
   "outputs": [
    {
     "data": {
      "text/plain": "3"
     },
     "execution_count": 4,
     "metadata": {},
     "output_type": "execute_result"
    }
   ],
   "source": [
    "frame.shape[1]"
   ],
   "metadata": {
    "collapsed": false,
    "ExecuteTime": {
     "end_time": "2023-07-25T13:11:07.481744600Z",
     "start_time": "2023-07-25T13:11:07.463785700Z"
    }
   }
  },
  {
   "cell_type": "code",
   "execution_count": 5,
   "outputs": [
    {
     "name": "stdout",
     "output_type": "stream",
     "text": [
      "<class 'pandas.core.frame.DataFrame'>\n",
      "Index: 4 entries, a to d\n",
      "Data columns (total 3 columns):\n",
      " #   Column  Non-Null Count  Dtype  \n",
      "---  ------  --------------  -----  \n",
      " 0   id      3 non-null      float64\n",
      " 1   name    3 non-null      object \n",
      " 2   score   3 non-null      float64\n",
      "dtypes: float64(2), object(1)\n",
      "memory usage: 128.0+ bytes\n"
     ]
    }
   ],
   "source": [
    "import numpy as np\n",
    "\n",
    "df = DataFrame({'id': [1, np.nan, 3, 4],\n",
    "                'name': ['asx', np.nan, 'wes', 'asd'],\n",
    "                'score': [78, 90, np.nan, 88]},\n",
    "               index=list('abcd'))\n",
    "df.info()"
   ],
   "metadata": {
    "collapsed": false,
    "ExecuteTime": {
     "end_time": "2023-07-25T13:12:25.282072800Z",
     "start_time": "2023-07-25T13:12:25.233709800Z"
    }
   }
  },
  {
   "cell_type": "code",
   "execution_count": 6,
   "outputs": [
    {
     "name": "stdout",
     "output_type": "stream",
     "text": [
      "    id name  score\n",
      "a  1.0  asx   78.0\n",
      "b  NaN  NaN   90.0\n",
      "c  3.0  wes    NaN\n",
      "d  4.0  asd   88.0\n"
     ]
    }
   ],
   "source": [
    "print(df)"
   ],
   "metadata": {
    "collapsed": false,
    "ExecuteTime": {
     "end_time": "2023-07-25T13:12:55.875203600Z",
     "start_time": "2023-07-25T13:12:55.859233600Z"
    }
   }
  },
  {
   "cell_type": "code",
   "execution_count": 7,
   "outputs": [
    {
     "data": {
      "text/plain": "    num\n0    16\n1    36\n2    10\n3    31\n4    46\n5    26\n6    28\n7    11\n8    43\n9    46\n10    3",
      "text/html": "<div>\n<style scoped>\n    .dataframe tbody tr th:only-of-type {\n        vertical-align: middle;\n    }\n\n    .dataframe tbody tr th {\n        vertical-align: top;\n    }\n\n    .dataframe thead th {\n        text-align: right;\n    }\n</style>\n<table border=\"1\" class=\"dataframe\">\n  <thead>\n    <tr style=\"text-align: right;\">\n      <th></th>\n      <th>num</th>\n    </tr>\n  </thead>\n  <tbody>\n    <tr>\n      <th>0</th>\n      <td>16</td>\n    </tr>\n    <tr>\n      <th>1</th>\n      <td>36</td>\n    </tr>\n    <tr>\n      <th>2</th>\n      <td>10</td>\n    </tr>\n    <tr>\n      <th>3</th>\n      <td>31</td>\n    </tr>\n    <tr>\n      <th>4</th>\n      <td>46</td>\n    </tr>\n    <tr>\n      <th>5</th>\n      <td>26</td>\n    </tr>\n    <tr>\n      <th>6</th>\n      <td>28</td>\n    </tr>\n    <tr>\n      <th>7</th>\n      <td>11</td>\n    </tr>\n    <tr>\n      <th>8</th>\n      <td>43</td>\n    </tr>\n    <tr>\n      <th>9</th>\n      <td>46</td>\n    </tr>\n    <tr>\n      <th>10</th>\n      <td>3</td>\n    </tr>\n  </tbody>\n</table>\n</div>"
     },
     "execution_count": 7,
     "metadata": {},
     "output_type": "execute_result"
    }
   ],
   "source": [],
   "metadata": {
    "collapsed": false,
    "ExecuteTime": {
     "end_time": "2023-07-25T13:13:53.915299600Z",
     "start_time": "2023-07-25T13:13:53.902338Z"
    }
   }
  },
  {
   "cell_type": "code",
   "execution_count": null,
   "outputs": [],
   "source": [
    "info_nums['num_bins'] = pd.cut(x=info_nums['num'], bins=[1, 25, 50])"
   ],
   "metadata": {
    "collapsed": false
   }
  },
  {
   "cell_type": "markdown",
   "source": [
    "# 3.3.11 cut()函数\n",
    "网\n",
    "cut()函数用于将数据进行离散化，将连续变量进行分段汇总，该方法仅适用于一维数组状对象。\n",
    "如果我们有大量标量数据并对其进行一些统计分析,则可以使用cut()方法。\n",
    "其语法形式如下:\n",
    "pandas.cut(x，bins，right = True,labels = None,retbins = False,\n",
    "precision = 3,include lowest =False)\n",
    "其中，各个参数的含义如下:\n",
    "·x:一维数组;\n",
    "·bins:是指一个整型或标量序列，这些值定义用于分割的箱子的边缘。如果是整数，则表示将x划分\n",
    "为多少个等距的区间;如果是序列，则表示将x划分在指定序列中，若不在该序列中，则是NaN;\n",
    "·right: 是否包含右端点;\n",
    "·labels: 是否用标记来代替返回的箱子\n",
    "precision:精度;\n",
    "·include lowest: 是否包含左端点"
   ],
   "metadata": {
    "collapsed": false
   }
  },
  {
   "cell_type": "code",
   "execution_count": 9,
   "outputs": [
    {
     "data": {
      "text/plain": "    num\n0    46\n1    24\n2    26\n3    31\n4    37\n5     5\n6    48\n7     6\n8     3\n9     2\n10   22",
      "text/html": "<div>\n<style scoped>\n    .dataframe tbody tr th:only-of-type {\n        vertical-align: middle;\n    }\n\n    .dataframe tbody tr th {\n        vertical-align: top;\n    }\n\n    .dataframe thead th {\n        text-align: right;\n    }\n</style>\n<table border=\"1\" class=\"dataframe\">\n  <thead>\n    <tr style=\"text-align: right;\">\n      <th></th>\n      <th>num</th>\n    </tr>\n  </thead>\n  <tbody>\n    <tr>\n      <th>0</th>\n      <td>46</td>\n    </tr>\n    <tr>\n      <th>1</th>\n      <td>24</td>\n    </tr>\n    <tr>\n      <th>2</th>\n      <td>26</td>\n    </tr>\n    <tr>\n      <th>3</th>\n      <td>31</td>\n    </tr>\n    <tr>\n      <th>4</th>\n      <td>37</td>\n    </tr>\n    <tr>\n      <th>5</th>\n      <td>5</td>\n    </tr>\n    <tr>\n      <th>6</th>\n      <td>48</td>\n    </tr>\n    <tr>\n      <th>7</th>\n      <td>6</td>\n    </tr>\n    <tr>\n      <th>8</th>\n      <td>3</td>\n    </tr>\n    <tr>\n      <th>9</th>\n      <td>2</td>\n    </tr>\n    <tr>\n      <th>10</th>\n      <td>22</td>\n    </tr>\n  </tbody>\n</table>\n</div>"
     },
     "execution_count": 9,
     "metadata": {},
     "output_type": "execute_result"
    }
   ],
   "source": [
    "info_nums = DataFrame({'num': np.random.randint(1, 50, 11)})\n",
    "info_nums"
   ],
   "metadata": {
    "collapsed": false,
    "ExecuteTime": {
     "end_time": "2023-07-25T13:19:00.910639800Z",
     "start_time": "2023-07-25T13:19:00.888808200Z"
    }
   }
  },
  {
   "cell_type": "code",
   "execution_count": 10,
   "outputs": [
    {
     "name": "stdout",
     "output_type": "stream",
     "text": [
      "    num  num_bins\n",
      "0    46  (25, 50]\n",
      "1    24   (1, 25]\n",
      "2    26  (25, 50]\n",
      "3    31  (25, 50]\n",
      "4    37  (25, 50]\n",
      "5     5   (1, 25]\n",
      "6    48  (25, 50]\n",
      "7     6   (1, 25]\n",
      "8     3   (1, 25]\n",
      "9     2   (1, 25]\n",
      "10   22   (1, 25]\n"
     ]
    }
   ],
   "source": [
    "info_nums['num_bins'] = pd.cut(x=info_nums['num'], bins=[1, 25, 50])\n",
    "print(info_nums)"
   ],
   "metadata": {
    "collapsed": false,
    "ExecuteTime": {
     "end_time": "2023-07-25T13:22:48.564953800Z",
     "start_time": "2023-07-25T13:22:48.516543800Z"
    }
   }
  },
  {
   "cell_type": "code",
   "execution_count": 11,
   "outputs": [
    {
     "data": {
      "text/plain": "[(25, 50], (1, 25]]\nCategories (2, interval[int64, right]): [(1, 25] < (25, 50]]"
     },
     "execution_count": 11,
     "metadata": {},
     "output_type": "execute_result"
    }
   ],
   "source": [
    "info_nums['num_bins'].unique()"
   ],
   "metadata": {
    "collapsed": false,
    "ExecuteTime": {
     "end_time": "2023-07-25T13:22:56.937636Z",
     "start_time": "2023-07-25T13:22:56.922682400Z"
    }
   }
  },
  {
   "cell_type": "code",
   "execution_count": 12,
   "outputs": [
    {
     "name": "stdout",
     "output_type": "stream",
     "text": [
      "   num\n",
      "0    7\n",
      "1    2\n",
      "2    4\n",
      "3    5\n",
      "4    2\n",
      "5    4\n",
      "6    7\n"
     ]
    }
   ],
   "source": [
    "info_nums = DataFrame({'num': np.random.randint(1, 10, 7)})\n",
    "print(info_nums)"
   ],
   "metadata": {
    "collapsed": false,
    "ExecuteTime": {
     "end_time": "2023-07-25T13:27:52.120880800Z",
     "start_time": "2023-07-25T13:27:52.073723Z"
    }
   }
  },
  {
   "cell_type": "markdown",
   "source": [
    "在info_nums里新建一列'nums_labels'的数据，划分依据是num，范围1,7,10类，打上标签lows和highs，"
   ],
   "metadata": {
    "collapsed": false
   }
  },
  {
   "cell_type": "code",
   "execution_count": 13,
   "outputs": [
    {
     "name": "stdout",
     "output_type": "stream",
     "text": [
      "   num nums_labels\n",
      "0    7       Highs\n",
      "1    2        Lows\n",
      "2    4        Lows\n",
      "3    5        Lows\n",
      "4    2        Lows\n",
      "5    4        Lows\n",
      "6    7       Highs\n"
     ]
    }
   ],
   "source": [
    "info_nums['nums_labels'] = pd.cut(x=info_nums['num'], bins=[1, 7, 10], labels=['Lows', 'Highs'], right=False)\n",
    "print(info_nums)"
   ],
   "metadata": {
    "collapsed": false,
    "ExecuteTime": {
     "end_time": "2023-07-25T13:29:37.453887500Z",
     "start_time": "2023-07-25T13:29:37.441918800Z"
    }
   }
  },
  {
   "cell_type": "code",
   "execution_count": 14,
   "outputs": [
    {
     "data": {
      "text/plain": "['Highs', 'Lows']\nCategories (2, object): ['Lows' < 'Highs']"
     },
     "execution_count": 14,
     "metadata": {},
     "output_type": "execute_result"
    }
   ],
   "source": [
    "info_nums['nums_labels'].unique()"
   ],
   "metadata": {
    "collapsed": false,
    "ExecuteTime": {
     "end_time": "2023-07-25T13:30:06.450521100Z",
     "start_time": "2023-07-25T13:30:06.433573800Z"
    }
   }
  }
 ],
 "metadata": {
  "kernelspec": {
   "display_name": "Python 3",
   "language": "python",
   "name": "python3"
  },
  "language_info": {
   "codemirror_mode": {
    "name": "ipython",
    "version": 2
   },
   "file_extension": ".py",
   "mimetype": "text/x-python",
   "name": "python",
   "nbconvert_exporter": "python",
   "pygments_lexer": "ipython2",
   "version": "2.7.6"
  }
 },
 "nbformat": 4,
 "nbformat_minor": 0
}
