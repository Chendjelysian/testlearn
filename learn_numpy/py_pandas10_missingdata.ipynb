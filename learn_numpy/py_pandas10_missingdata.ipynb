{
 "cells": [
  {
   "cell_type": "code",
   "execution_count": 9,
   "outputs": [
    {
     "data": {
      "text/plain": "        one       two     three\na  0.312227 -0.412522 -1.017627\nb       NaN       NaN       NaN\nc  1.712946 -1.043187 -0.469632\nd       NaN       NaN       NaN\ne  0.669627  0.726266 -1.160709\nf -0.287135 -1.980620 -0.861832\ng       NaN       NaN       NaN\nh -0.461427 -0.369959  0.201940",
      "text/html": "<div>\n<style scoped>\n    .dataframe tbody tr th:only-of-type {\n        vertical-align: middle;\n    }\n\n    .dataframe tbody tr th {\n        vertical-align: top;\n    }\n\n    .dataframe thead th {\n        text-align: right;\n    }\n</style>\n<table border=\"1\" class=\"dataframe\">\n  <thead>\n    <tr style=\"text-align: right;\">\n      <th></th>\n      <th>one</th>\n      <th>two</th>\n      <th>three</th>\n    </tr>\n  </thead>\n  <tbody>\n    <tr>\n      <th>a</th>\n      <td>0.312227</td>\n      <td>-0.412522</td>\n      <td>-1.017627</td>\n    </tr>\n    <tr>\n      <th>b</th>\n      <td>NaN</td>\n      <td>NaN</td>\n      <td>NaN</td>\n    </tr>\n    <tr>\n      <th>c</th>\n      <td>1.712946</td>\n      <td>-1.043187</td>\n      <td>-0.469632</td>\n    </tr>\n    <tr>\n      <th>d</th>\n      <td>NaN</td>\n      <td>NaN</td>\n      <td>NaN</td>\n    </tr>\n    <tr>\n      <th>e</th>\n      <td>0.669627</td>\n      <td>0.726266</td>\n      <td>-1.160709</td>\n    </tr>\n    <tr>\n      <th>f</th>\n      <td>-0.287135</td>\n      <td>-1.980620</td>\n      <td>-0.861832</td>\n    </tr>\n    <tr>\n      <th>g</th>\n      <td>NaN</td>\n      <td>NaN</td>\n      <td>NaN</td>\n    </tr>\n    <tr>\n      <th>h</th>\n      <td>-0.461427</td>\n      <td>-0.369959</td>\n      <td>0.201940</td>\n    </tr>\n  </tbody>\n</table>\n</div>"
     },
     "execution_count": 9,
     "metadata": {},
     "output_type": "execute_result"
    }
   ],
   "source": [
    "import pandas as pd\n",
    "import numpy as np\n",
    "from pandas import Series, DataFrame\n",
    "\n",
    "df = DataFrame(np.random.randn(5, 3), index=['a', 'c', 'e', 'f', 'h'], columns=['one', 'two', 'three'])\n",
    "df = df.reindex(['a', 'b', 'c', 'd', 'e', 'f', 'g', 'h'])\n",
    "# 检查缺失值\n",
    "df\n",
    "\n"
   ],
   "metadata": {
    "collapsed": false,
    "ExecuteTime": {
     "end_time": "2023-07-26T07:02:41.359242200Z",
     "start_time": "2023-07-26T07:02:41.227753800Z"
    }
   }
  },
  {
   "cell_type": "code",
   "execution_count": 10,
   "outputs": [
    {
     "data": {
      "text/plain": "a    False\nb     True\nc    False\nd     True\ne    False\nf    False\ng     True\nh    False\nName: one, dtype: bool"
     },
     "execution_count": 10,
     "metadata": {},
     "output_type": "execute_result"
    }
   ],
   "source": [
    "df['one'].isnull()"
   ],
   "metadata": {
    "collapsed": false,
    "ExecuteTime": {
     "end_time": "2023-07-26T07:02:41.369651700Z",
     "start_time": "2023-07-26T07:02:41.249272500Z"
    }
   }
  },
  {
   "cell_type": "markdown",
   "source": [
    "清理，填充缺失值"
   ],
   "metadata": {
    "collapsed": false
   }
  },
  {
   "cell_type": "code",
   "execution_count": 11,
   "metadata": {
    "collapsed": true,
    "ExecuteTime": {
     "end_time": "2023-07-26T07:02:41.369651700Z",
     "start_time": "2023-07-26T07:02:41.281340700Z"
    }
   },
   "outputs": [
    {
     "data": {
      "text/plain": "        one       two     three\na -1.382164  0.533017 -0.427422\nb       NaN       NaN       NaN\nc  0.437807 -0.081416 -1.872872",
      "text/html": "<div>\n<style scoped>\n    .dataframe tbody tr th:only-of-type {\n        vertical-align: middle;\n    }\n\n    .dataframe tbody tr th {\n        vertical-align: top;\n    }\n\n    .dataframe thead th {\n        text-align: right;\n    }\n</style>\n<table border=\"1\" class=\"dataframe\">\n  <thead>\n    <tr style=\"text-align: right;\">\n      <th></th>\n      <th>one</th>\n      <th>two</th>\n      <th>three</th>\n    </tr>\n  </thead>\n  <tbody>\n    <tr>\n      <th>a</th>\n      <td>-1.382164</td>\n      <td>0.533017</td>\n      <td>-0.427422</td>\n    </tr>\n    <tr>\n      <th>b</th>\n      <td>NaN</td>\n      <td>NaN</td>\n      <td>NaN</td>\n    </tr>\n    <tr>\n      <th>c</th>\n      <td>0.437807</td>\n      <td>-0.081416</td>\n      <td>-1.872872</td>\n    </tr>\n  </tbody>\n</table>\n</div>"
     },
     "execution_count": 11,
     "metadata": {},
     "output_type": "execute_result"
    }
   ],
   "source": [
    "import pandas as pd\n",
    "import numpy as np\n",
    "from pandas import Series, DataFrame\n",
    "\n",
    "df = pd.DataFrame(np.random.randn(3, 3), index=['a', 'c', 'e'], columns=['one', 'two', 'three'])\n",
    "df = df.reindex(['a', 'b', 'c'])\n",
    "df"
   ]
  },
  {
   "cell_type": "code",
   "execution_count": 12,
   "outputs": [
    {
     "data": {
      "text/plain": "        one       two     three\na -1.382164  0.533017 -0.427422\nb  0.000000  0.000000  0.000000\nc  0.437807 -0.081416 -1.872872",
      "text/html": "<div>\n<style scoped>\n    .dataframe tbody tr th:only-of-type {\n        vertical-align: middle;\n    }\n\n    .dataframe tbody tr th {\n        vertical-align: top;\n    }\n\n    .dataframe thead th {\n        text-align: right;\n    }\n</style>\n<table border=\"1\" class=\"dataframe\">\n  <thead>\n    <tr style=\"text-align: right;\">\n      <th></th>\n      <th>one</th>\n      <th>two</th>\n      <th>three</th>\n    </tr>\n  </thead>\n  <tbody>\n    <tr>\n      <th>a</th>\n      <td>-1.382164</td>\n      <td>0.533017</td>\n      <td>-0.427422</td>\n    </tr>\n    <tr>\n      <th>b</th>\n      <td>0.000000</td>\n      <td>0.000000</td>\n      <td>0.000000</td>\n    </tr>\n    <tr>\n      <th>c</th>\n      <td>0.437807</td>\n      <td>-0.081416</td>\n      <td>-1.872872</td>\n    </tr>\n  </tbody>\n</table>\n</div>"
     },
     "execution_count": 12,
     "metadata": {},
     "output_type": "execute_result"
    }
   ],
   "source": [
    "df.fillna(0)  #用0填充缺失值"
   ],
   "metadata": {
    "collapsed": false,
    "ExecuteTime": {
     "end_time": "2023-07-26T07:02:41.369651700Z",
     "start_time": "2023-07-26T07:02:41.286312500Z"
    }
   }
  },
  {
   "cell_type": "code",
   "execution_count": 13,
   "outputs": [
    {
     "data": {
      "text/plain": "        one       two     three\na -1.382164  0.533017 -0.427422\nb -1.382164  0.533017 -0.427422\nc  0.437807 -0.081416 -1.872872",
      "text/html": "<div>\n<style scoped>\n    .dataframe tbody tr th:only-of-type {\n        vertical-align: middle;\n    }\n\n    .dataframe tbody tr th {\n        vertical-align: top;\n    }\n\n    .dataframe thead th {\n        text-align: right;\n    }\n</style>\n<table border=\"1\" class=\"dataframe\">\n  <thead>\n    <tr style=\"text-align: right;\">\n      <th></th>\n      <th>one</th>\n      <th>two</th>\n      <th>three</th>\n    </tr>\n  </thead>\n  <tbody>\n    <tr>\n      <th>a</th>\n      <td>-1.382164</td>\n      <td>0.533017</td>\n      <td>-0.427422</td>\n    </tr>\n    <tr>\n      <th>b</th>\n      <td>-1.382164</td>\n      <td>0.533017</td>\n      <td>-0.427422</td>\n    </tr>\n    <tr>\n      <th>c</th>\n      <td>0.437807</td>\n      <td>-0.081416</td>\n      <td>-1.872872</td>\n    </tr>\n  </tbody>\n</table>\n</div>"
     },
     "execution_count": 13,
     "metadata": {},
     "output_type": "execute_result"
    }
   ],
   "source": [
    "df.fillna(method='pad')  #填充时和前一行的数据相同"
   ],
   "metadata": {
    "collapsed": false,
    "ExecuteTime": {
     "end_time": "2023-07-26T07:02:41.369651700Z",
     "start_time": "2023-07-26T07:02:41.319545400Z"
    }
   }
  },
  {
   "cell_type": "code",
   "execution_count": 14,
   "outputs": [
    {
     "data": {
      "text/plain": "        one       two     three\na -1.382164  0.533017 -0.427422\nb  0.437807 -0.081416 -1.872872\nc  0.437807 -0.081416 -1.872872",
      "text/html": "<div>\n<style scoped>\n    .dataframe tbody tr th:only-of-type {\n        vertical-align: middle;\n    }\n\n    .dataframe tbody tr th {\n        vertical-align: top;\n    }\n\n    .dataframe thead th {\n        text-align: right;\n    }\n</style>\n<table border=\"1\" class=\"dataframe\">\n  <thead>\n    <tr style=\"text-align: right;\">\n      <th></th>\n      <th>one</th>\n      <th>two</th>\n      <th>three</th>\n    </tr>\n  </thead>\n  <tbody>\n    <tr>\n      <th>a</th>\n      <td>-1.382164</td>\n      <td>0.533017</td>\n      <td>-0.427422</td>\n    </tr>\n    <tr>\n      <th>b</th>\n      <td>0.437807</td>\n      <td>-0.081416</td>\n      <td>-1.872872</td>\n    </tr>\n    <tr>\n      <th>c</th>\n      <td>0.437807</td>\n      <td>-0.081416</td>\n      <td>-1.872872</td>\n    </tr>\n  </tbody>\n</table>\n</div>"
     },
     "execution_count": 14,
     "metadata": {},
     "output_type": "execute_result"
    }
   ],
   "source": [
    "df.fillna(method='backfill')  #填充时和后一行的数据相同"
   ],
   "metadata": {
    "collapsed": false,
    "ExecuteTime": {
     "end_time": "2023-07-26T07:02:41.369651700Z",
     "start_time": "2023-07-26T07:02:41.319545400Z"
    }
   }
  },
  {
   "cell_type": "markdown",
   "source": [
    "8.5.3丢失缺少的值\n",
    "如果只想排除缺少的值，则使用dropna()函数和axis)参数。默认情况下，axis = 0，即在行上应用\n",
    "这意味着如果行内的任何值缺失，那么整个行被排除"
   ],
   "metadata": {
    "collapsed": false
   }
  },
  {
   "cell_type": "code",
   "execution_count": 15,
   "outputs": [
    {
     "data": {
      "text/plain": "        one       two     three\na -1.167131 -0.735269  1.189402\nb       NaN       NaN       NaN\nc -1.459604  1.189348  0.156963\nd       NaN       NaN       NaN\ne  0.821634  0.191697  1.007263\nf -0.545388 -0.796760 -0.214847\ng       NaN       NaN       NaN\nh -0.290115 -0.920490 -1.056674",
      "text/html": "<div>\n<style scoped>\n    .dataframe tbody tr th:only-of-type {\n        vertical-align: middle;\n    }\n\n    .dataframe tbody tr th {\n        vertical-align: top;\n    }\n\n    .dataframe thead th {\n        text-align: right;\n    }\n</style>\n<table border=\"1\" class=\"dataframe\">\n  <thead>\n    <tr style=\"text-align: right;\">\n      <th></th>\n      <th>one</th>\n      <th>two</th>\n      <th>three</th>\n    </tr>\n  </thead>\n  <tbody>\n    <tr>\n      <th>a</th>\n      <td>-1.167131</td>\n      <td>-0.735269</td>\n      <td>1.189402</td>\n    </tr>\n    <tr>\n      <th>b</th>\n      <td>NaN</td>\n      <td>NaN</td>\n      <td>NaN</td>\n    </tr>\n    <tr>\n      <th>c</th>\n      <td>-1.459604</td>\n      <td>1.189348</td>\n      <td>0.156963</td>\n    </tr>\n    <tr>\n      <th>d</th>\n      <td>NaN</td>\n      <td>NaN</td>\n      <td>NaN</td>\n    </tr>\n    <tr>\n      <th>e</th>\n      <td>0.821634</td>\n      <td>0.191697</td>\n      <td>1.007263</td>\n    </tr>\n    <tr>\n      <th>f</th>\n      <td>-0.545388</td>\n      <td>-0.796760</td>\n      <td>-0.214847</td>\n    </tr>\n    <tr>\n      <th>g</th>\n      <td>NaN</td>\n      <td>NaN</td>\n      <td>NaN</td>\n    </tr>\n    <tr>\n      <th>h</th>\n      <td>-0.290115</td>\n      <td>-0.920490</td>\n      <td>-1.056674</td>\n    </tr>\n  </tbody>\n</table>\n</div>"
     },
     "execution_count": 15,
     "metadata": {},
     "output_type": "execute_result"
    }
   ],
   "source": [
    "df = DataFrame(np.random.randn(5, 3), index=['a', 'c', 'e', 'f', 'h'], columns=['one', 'two', 'three'])\n",
    "df = df.reindex(['a', 'b', 'c', 'd', 'e', 'f', 'g', 'h'])\n",
    "df"
   ],
   "metadata": {
    "collapsed": false,
    "ExecuteTime": {
     "end_time": "2023-07-26T07:03:35.248766600Z",
     "start_time": "2023-07-26T07:03:35.217493300Z"
    }
   }
  },
  {
   "cell_type": "code",
   "execution_count": 16,
   "outputs": [
    {
     "data": {
      "text/plain": "        one       two     three\na -1.167131 -0.735269  1.189402\nc -1.459604  1.189348  0.156963\ne  0.821634  0.191697  1.007263\nf -0.545388 -0.796760 -0.214847\nh -0.290115 -0.920490 -1.056674",
      "text/html": "<div>\n<style scoped>\n    .dataframe tbody tr th:only-of-type {\n        vertical-align: middle;\n    }\n\n    .dataframe tbody tr th {\n        vertical-align: top;\n    }\n\n    .dataframe thead th {\n        text-align: right;\n    }\n</style>\n<table border=\"1\" class=\"dataframe\">\n  <thead>\n    <tr style=\"text-align: right;\">\n      <th></th>\n      <th>one</th>\n      <th>two</th>\n      <th>three</th>\n    </tr>\n  </thead>\n  <tbody>\n    <tr>\n      <th>a</th>\n      <td>-1.167131</td>\n      <td>-0.735269</td>\n      <td>1.189402</td>\n    </tr>\n    <tr>\n      <th>c</th>\n      <td>-1.459604</td>\n      <td>1.189348</td>\n      <td>0.156963</td>\n    </tr>\n    <tr>\n      <th>e</th>\n      <td>0.821634</td>\n      <td>0.191697</td>\n      <td>1.007263</td>\n    </tr>\n    <tr>\n      <th>f</th>\n      <td>-0.545388</td>\n      <td>-0.796760</td>\n      <td>-0.214847</td>\n    </tr>\n    <tr>\n      <th>h</th>\n      <td>-0.290115</td>\n      <td>-0.920490</td>\n      <td>-1.056674</td>\n    </tr>\n  </tbody>\n</table>\n</div>"
     },
     "execution_count": 16,
     "metadata": {},
     "output_type": "execute_result"
    }
   ],
   "source": [
    "df.dropna()  #默认情况下，axis = 0，即在行上应用"
   ],
   "metadata": {
    "collapsed": false,
    "ExecuteTime": {
     "end_time": "2023-07-26T07:03:56.687315400Z",
     "start_time": "2023-07-26T07:03:56.671686Z"
    }
   }
  },
  {
   "cell_type": "code",
   "execution_count": 18,
   "outputs": [
    {
     "name": "stdout",
     "output_type": "stream",
     "text": [
      "Empty DataFrame\n",
      "Columns: []\n",
      "Index: [a, b, c, d, e, f, g, h]\n"
     ]
    }
   ],
   "source": [
    "print(df.dropna(axis=1))  # axis = 1时在列上应用"
   ],
   "metadata": {
    "collapsed": false,
    "ExecuteTime": {
     "end_time": "2023-07-26T07:05:07.709902100Z",
     "start_time": "2023-07-26T07:05:07.703115Z"
    }
   }
  },
  {
   "cell_type": "markdown",
   "source": [
    "# 可以用一些具体的值取代一个通用的值"
   ],
   "metadata": {
    "collapsed": false
   }
  },
  {
   "cell_type": "code",
   "execution_count": 22,
   "outputs": [
    {
     "name": "stdout",
     "output_type": "stream",
     "text": [
      "   one  two\n",
      "0    1  200\n",
      "1    2    0\n",
      "2    3    3\n",
      "3    4    4\n",
      "4    5    5\n",
      "5  300    6\n"
     ]
    }
   ],
   "source": [
    "df = DataFrame({'one':[1,2,3,4,5,300],'two':[200,0,3,4,5,6]})\n",
    "print(df)"
   ],
   "metadata": {
    "collapsed": false,
    "ExecuteTime": {
     "end_time": "2023-07-26T07:08:09.031291600Z",
     "start_time": "2023-07-26T07:08:09.015702500Z"
    }
   }
  },
  {
   "cell_type": "code",
   "execution_count": 23,
   "outputs": [
    {
     "name": "stdout",
     "output_type": "stream",
     "text": [
      "   one  two\n",
      "0    1   10\n",
      "1    2    0\n",
      "2    3    3\n",
      "3    4    4\n",
      "4    5    5\n",
      "5   60    6\n"
     ]
    }
   ],
   "source": [
    "print(df.replace({200:10,300:60}))"
   ],
   "metadata": {
    "collapsed": false,
    "ExecuteTime": {
     "end_time": "2023-07-26T07:08:11.170584800Z",
     "start_time": "2023-07-26T07:08:11.139189100Z"
    }
   }
  }
 ],
 "metadata": {
  "kernelspec": {
   "display_name": "Python 3",
   "language": "python",
   "name": "python3"
  },
  "language_info": {
   "codemirror_mode": {
    "name": "ipython",
    "version": 2
   },
   "file_extension": ".py",
   "mimetype": "text/x-python",
   "name": "python",
   "nbconvert_exporter": "python",
   "pygments_lexer": "ipython2",
   "version": "2.7.6"
  }
 },
 "nbformat": 4,
 "nbformat_minor": 0
}
